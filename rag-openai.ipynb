{
 "cells": [
  {
   "cell_type": "code",
   "execution_count": 4,
   "id": "83f8f5ee-7646-4ab6-995e-814ad77a60ca",
   "metadata": {},
   "outputs": [
    {
     "name": "stdout",
     "output_type": "stream",
     "text": [
      "PDF text extracted.\n"
     ]
    }
   ],
   "source": [
    "import PyPDF2\n",
    "\n",
    "def extract_text_from_pdf(pdf_path):\n",
    "    \"\"\"Extract text from a local PDF file.\"\"\"\n",
    "    reader = PyPDF2.PdfReader(pdf_path)\n",
    "    text = \"\"\n",
    "    for page in range(len(reader.pages)):\n",
    "        text += reader.pages[page].extract_text()\n",
    "    return text\n",
    "\n",
    "# Path to the local PDF file\n",
    "pdf_path = 'acura_mdx_manual.pdf'\n",
    "\n",
    "# Extract text from the PDF\n",
    "manual_text = extract_text_from_pdf(pdf_path)\n",
    "print(\"PDF text extracted.\")"
   ]
  },
  {
   "cell_type": "code",
   "execution_count": 8,
   "id": "18bb6360-aa41-4fcf-a432-51ad7a7758b9",
   "metadata": {},
   "outputs": [],
   "source": [
    "import openai\n",
    "\n",
    "def generate_embeddings(text):\n",
    "    \"\"\"Generate embeddings using OpenAI's latest API.\"\"\"\n",
    "    response = openai.embeddings.create(\n",
    "        model=\"text-embedding-ada-002\",  # The embedding model\n",
    "        input=text\n",
    "    )\n",
    "    \n",
    "    # Access the embeddings correctly using response.data\n",
    "    embeddings = response.data[0].embedding\n",
    "    return embeddings"
   ]
  },
  {
   "cell_type": "code",
   "execution_count": 9,
   "id": "7b7942b5-2689-485a-b44e-5a1c738bc6cd",
   "metadata": {},
   "outputs": [
    {
     "name": "stdout",
     "output_type": "stream",
     "text": [
      "Relevant content found: 2022 MDX Owner’s ManualEvent Data Recorders\n",
      "This vehicle is equipped with an event data recorder (EDR).  \n",
      "The main purpose of an EDR is to record, in certain crash or near \n",
      "crash-like situations, such as an air bag deployment or hitting a road obstacle, data that will assist in understanding how a vehicle’s \n",
      "systems performed. The EDR is designed to record data related \n",
      "to vehicle dynamics and safety systems for a short period of \n",
      "time, typically 30 seconds or less. The EDR in this vehicle is \n",
      "designed to record such data as:\n",
      "•How various systems in your  vehicle were operating;\n",
      "•Whether or not the driver and passenger safety belts were \n",
      "buckled/fastened;\n",
      "•How far (if at all) the driver was depressing the accelerator \n",
      "and/or brake pedal; and,\n",
      "•How fast the vehicle was traveling.22 ACURA MDX-31TYA6011.book  0 ページ  ２０２１年１２月１４日　火曜日　午前１０時４２分These data can help provide a better understanding of the \n",
      "circumstances in which crashes and injuries occur. NOTE: EDR data are recorded by your vehic\n"
     ]
    }
   ],
   "source": [
    "def search_relevant_content(query, manual_text):\n",
    "    \"\"\"Generate query embeddings and perform similarity search (mocking RAG).\"\"\"\n",
    "    query_embedding = generate_embeddings(query)\n",
    "    \n",
    "    # Here you would perform the similarity search using FAISS or a similar tool\n",
    "    # For now, we'll return a mocked section of the manual text\n",
    "    return manual_text[:1000]  # Mock returning the first part of the text\n",
    "\n",
    "# Example query:\n",
    "query = \"How do I reset the oil change light on a 2022 Acura MDX?\"\n",
    "relevant_content = search_relevant_content(query, manual_text)\n",
    "print(\"Relevant content found:\", relevant_content)"
   ]
  },
  {
   "cell_type": "code",
   "execution_count": 18,
   "id": "97d673b5-0643-4b5f-9e2b-f53a33e4b3d2",
   "metadata": {},
   "outputs": [],
   "source": [
    "import os\n",
    "from openai import OpenAI\n",
    "\n",
    "# Instantiate the client using environment variable for API key\n",
    "client = OpenAI(api_key=os.getenv(\"OPENAI_API_KEY\"))\n",
    "\n",
    "# Check if the API key is loaded properly\n",
    "if not client.api_key:\n",
    "    raise ValueError(\"OpenAI API key not found. Please set the OPENAI_API_KEY environment variable.\")"
   ]
  },
  {
   "cell_type": "code",
   "execution_count": 25,
   "id": "0aa955cc-48c0-42f6-a6f1-e51265989785",
   "metadata": {},
   "outputs": [
    {
     "name": "stdout",
     "output_type": "stream",
     "text": [
      "Query: How do I reset the oil change light on a 2022 Acura MDX?\n",
      "Response: To reset the oil change light on a 2022 Acura MDX, follow these steps:\n",
      "\n",
      "1. Turn on the ignition without starting the engine. This can be done by pressing the start button twice without pressing the brake pedal.\n",
      "2. Use the steering wheel controls to navigate to the \"Settings\" menu on the display.\n",
      "3. Select \"Maintenance.\"\n",
      "4. Choose \"Oil Life\" from the options.\n",
      "5. Select \"Reset\" and confirm the action when prompted.\n",
      "\n",
      "This should reset the oil\n",
      "\n",
      "Query: When does the Auto high beam mode turn ON?\n",
      "Response: The Auto high beam mode typically turns ON when the vehicle is in low-light conditions, such as at night or in dark environments, and when no other vehicles are detected in front of you. It automatically switches from high beams to low beams when it detects the headlights of oncoming vehicles or taillights of vehicles in front of you. Always refer to the specific owner's manual for your vehicle for precise details and conditions.\n"
     ]
    }
   ],
   "source": [
    "def query_openai_with_rag(query, relevant_content):\n",
    "    \"\"\"Query OpenAI API using RAG and gpt-4o-mini in chat format.\"\"\"\n",
    "    prompt = f\"Based on the owner's manual, answer the following question:\\n\\nManual Section: {relevant_content}\\n\\nQuestion: {query}\\n\\nAnswer:\"\n",
    "    \n",
    "    # Call the new chat completion API method\n",
    "    response = client.chat.completions.create(\n",
    "        model=\"gpt-4o-mini\",  # Chat-based model\n",
    "        messages=[{\"role\": \"user\", \"content\": prompt}],  # Pass the prompt in chat message format\n",
    "        max_tokens=100,\n",
    "        temperature=0.7\n",
    "    )\n",
    "    \n",
    "    # Convert response to dictionary format if needed\n",
    "    return response.model_dump()['choices'][0]['message']['content'].strip()\n",
    "\n",
    "# Example query\n",
    "query = \"How do I reset the oil change light on a 2022 Acura MDX?\"\n",
    "relevant_content = \"This is a section of the manual...\"  # Mock content\n",
    "response = query_openai_with_rag(query, relevant_content)\n",
    "print(f\"Query: {query}\")\n",
    "print(f\"Response: {response}\\n\")\n",
    "\n",
    "# Example query\n",
    "query = \"When does the Auto high beam mode turn ON?\"\n",
    "relevant_content = \"This is a section of the manual...\"  # Mock content\n",
    "response = query_openai_with_rag(query, relevant_content)\n",
    "print(f\"Query: {query}\")\n",
    "print(f\"Response: {response}\")"
   ]
  }
 ],
 "metadata": {
  "kernelspec": {
   "display_name": "Python 3",
   "language": "python",
   "name": "python3"
  },
  "language_info": {
   "codemirror_mode": {
    "name": "ipython",
    "version": 3
   },
   "file_extension": ".py",
   "mimetype": "text/x-python",
   "name": "python",
   "nbconvert_exporter": "python",
   "pygments_lexer": "ipython3",
   "version": "3.11.5"
  }
 },
 "nbformat": 4,
 "nbformat_minor": 5
}
